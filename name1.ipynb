{
 "cells": [
  {
   "cell_type": "code",
   "execution_count": 1,
   "metadata": {},
   "outputs": [],
   "source": [
    "# setup\n",
    "# Set Constants\n",
    "CONSONANT: str = \"bcdfghjklmnpqrstvwxyzBCDFGHJKLMNPQRSTVWXYZ\"\n",
    "VOWEL: str = \"aeiouAEIOU\"\n",
    "DEBUG: bool = False\n",
    "\n",
    "# Set Unit Test\n",
    "# I am not sure if you have done dicts yet, but this would usually be a list of dicts in the form of the following.\n",
    "unit_tests: list[dict] = [\n",
    "    {\n",
    "        \"testname\": \"First Name process\",\n",
    "        \"test_content\": \"Korra\",\n",
    "        \"expected_return\": \"K\",\n",
    "        \"expect_error\": False\n",
    "    },\n",
    "    {\n",
    "        \"testname\": \"One letter\",\n",
    "        \"test_content\": \"Z\",\n",
    "        \"expected_return\": \"\",\n",
    "        \"expect_error\": False\n",
    "    },\n",
    "    {\n",
    "        \"testname\": \"No consonants after the first letter\",\n",
    "        \"test_content\": \"Poaeeoau\",\n",
    "        \"expected_return\": \"\",\n",
    "        \"expect_error\": False\n",
    "    },\n",
    "    {\n",
    "        \"testname\": \"Empty string\",\n",
    "        \"test_content\": \"\",\n",
    "        \"expected_return\": \"\",\n",
    "        \"expect_error\": False\n",
    "    },\n",
    "    {\n",
    "        \"testname\": \"No Consonants at all\",\n",
    "        \"test_content\": \"ooaaeeiio\",\n",
    "        \"expected_return\": \"\",\n",
    "        \"expect_error\": False\n",
    "    },\n",
    "    {\n",
    "        \"testname\": \"Two letters, no vowels\",\n",
    "        \"test_content\": \"JP\",\n",
    "        \"expected_return\": \"JP\",\n",
    "        \"expect_error\": False\n",
    "    },\n",
    "    {\n",
    "        \"testname\": \"First Name process standard\",\n",
    "        \"test_content\": \"Aaron\",\n",
    "        \"expected_return\": \"Aar\",\n",
    "        \"expect_error\": False\n",
    "    },\n",
    "]"
   ]
  },
  {
   "cell_type": "code",
   "execution_count": null,
   "metadata": {},
   "outputs": [],
   "source": [
    "    \"Korra\",  # Expect: Kor,\n",
    "    \"Z\",  # Expect: '', edge case, only 1 char.\n",
    "    \"Poaeeoau\",  # Expect: '', edge case no subsequent consonants\n",
    "    \"\",  # Expect: '', edge case empty name\n",
    "    \"ooaaeeiio\",  # Expect: '', edge case: no consonants\n",
    "    \"JP\",  # Expect: JP, No Vowel\n",
    "    \"Aaron\"  # Expect: 'Aar', normal case"
   ]
  }
 ],
 "metadata": {
  "interpreter": {
   "hash": "aee8b7b246df8f9039afb4144a1f6fd8d2ca17a180786b69acc140d282b71a49"
  },
  "kernelspec": {
   "display_name": "Python 3.9.1 64-bit",
   "name": "python3"
  },
  "language_info": {
   "codemirror_mode": {
    "name": "ipython",
    "version": 3
   },
   "file_extension": ".py",
   "mimetype": "text/x-python",
   "name": "python",
   "nbconvert_exporter": "python",
   "pygments_lexer": "ipython3",
   "version": "3.9.1"
  },
  "orig_nbformat": 4
 },
 "nbformat": 4,
 "nbformat_minor": 2
}

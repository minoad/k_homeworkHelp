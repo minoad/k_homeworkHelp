{
 "cells": [
  {
   "cell_type": "markdown",
   "metadata": {},
   "source": []
  },
  {
   "cell_type": "markdown",
   "metadata": {},
   "source": [
    "* Name 2 portion\n",
    "* assignment criteria\n",
    "* For the second name: If it starts with a vowel, keep the whole second name. \n",
    "* If it starts with a consonant, keep every letter after the first consonant, but not including it. "
   ]
  },
  {
   "cell_type": "code",
   "execution_count": 4,
   "metadata": {},
   "outputs": [],
   "source": [
    "\n",
    "# Set Constants\n",
    "CONSONANT: str = \"bcdfghjklmnpqrstvwxyzBCDFGHJKLMNPQRSTVWXYZ\"\n",
    "VOWEL: str = \"aeiouAEIOU\"\n",
    "DEBUG: bool = False"
   ]
  },
  {
   "cell_type": "code",
   "execution_count": 13,
   "metadata": {},
   "outputs": [],
   "source": [
    "name2UnitTestDict: list[dict] = [\n",
    "    {\n",
    "        \"content\": \"Aaron\",\n",
    "        \"name\": \"Starts with vowel\",\n",
    "        \"expectedResult\": \"Aaron\", \n",
    "    },\n",
    "    {\n",
    "        \"content\": \"Billy\",\n",
    "        \"name\": \"starts with cons\",\n",
    "        \"expectedResult\": \"illy\"\n",
    "    }\n",
    "]\n",
    "\n",
    "cond1 = \"Aaron\" # Expected result will be: Aaron, keep the whole second name\n",
    "cond2 = \"Billy\" # Expected result will be : ['ly', 'lly'], Keep every letter after the first sonsonant but not including"
   ]
  },
  {
   "cell_type": "code",
   "execution_count": 27,
   "metadata": {},
   "outputs": [
    {
     "data": {
      "text/plain": [
       "[{'content': 'Aaron', 'name': 'Starts with vowel', 'expectedResult': 'Aaron'}]"
      ]
     },
     "execution_count": 27,
     "metadata": {},
     "output_type": "execute_result"
    }
   ],
   "source": [
    "m = [1,2]\n",
    "[ i for i in name2UnitTestDict if i[\"content\"].startswith(\"A\") ]"
   ]
  },
  {
   "cell_type": "code",
   "execution_count": 25,
   "metadata": {},
   "outputs": [
    {
     "name": "stdout",
     "output_type": "stream",
     "text": [
      "{'content': 'Aaron', 'name': 'Starts with vowel', 'expectedResult': 'Aaron'}\n"
     ]
    }
   ],
   "source": [
    "for i in name2UnitTestDict:\n",
    "    if i[\"content\"].startswith(\"A\"):\n",
    "        print(i)"
   ]
  },
  {
   "cell_type": "code",
   "execution_count": 48,
   "metadata": {},
   "outputs": [],
   "source": [
    "# DONE: Expected result will be: Aaron, keep the whole second name\n",
    "# DONE: Expected result will be : ['ly', 'lly'], Keep every letter after the first consonant but not including\n",
    "\n",
    "def secondName(n: str) -> str:\n",
    "    # Case 1: starts with vowel\n",
    "    if n[0] in VOWEL: return n\n",
    "    \n",
    "    # Case 2: starts with consonent\n",
    "    for l in enumerate(n):\n",
    "        # am i a consanent\n",
    "        ## If so forget me and return the remaining piece of the string.\n",
    "        ## 0,b; yes consanant; return b[idx] +1 to end.  illy\n",
    "        if l[1] in CONSONANT: \n",
    "            return n[l[0]+1:]\n",
    "    \n",
    "    # Case 3: we have encountered some errors stat and no return has run yet\n",
    "    return \"\""
   ]
  },
  {
   "cell_type": "code",
   "execution_count": 49,
   "metadata": {},
   "outputs": [
    {
     "data": {
      "text/plain": [
       "'illy'"
      ]
     },
     "execution_count": 49,
     "metadata": {},
     "output_type": "execute_result"
    }
   ],
   "source": [
    "secondName(name2UnitTestDict[1][\"content\"])"
   ]
  },
  {
   "cell_type": "code",
   "execution_count": 39,
   "metadata": {},
   "outputs": [
    {
     "data": {
      "text/plain": [
       "'Aaron'"
      ]
     },
     "execution_count": 39,
     "metadata": {},
     "output_type": "execute_result"
    }
   ],
   "source": [
    "secondName(name2UnitTestDict[0][\"content\"])"
   ]
  },
  {
   "cell_type": "code",
   "execution_count": 52,
   "metadata": {},
   "outputs": [
    {
     "ename": "TypeError",
     "evalue": "object of type 'int' has no len()",
     "output_type": "error",
     "traceback": [
      "\u001b[0;31m---------------------------------------------------------------------------\u001b[0m",
      "\u001b[0;31mTypeError\u001b[0m                                 Traceback (most recent call last)",
      "\u001b[0;32m/var/folders/2x/0m0g9jy55z52wtsk2fl3h2m83kffgv/T/ipykernel_10020/397400579.py\u001b[0m in \u001b[0;36m<module>\u001b[0;34m\u001b[0m\n\u001b[0;32m----> 1\u001b[0;31m \u001b[0mlen\u001b[0m\u001b[0;34m(\u001b[0m\u001b[0;36m567\u001b[0m\u001b[0;34m)\u001b[0m\u001b[0;34m\u001b[0m\u001b[0;34m\u001b[0m\u001b[0m\n\u001b[0m",
      "\u001b[0;31mTypeError\u001b[0m: object of type 'int' has no len()"
     ]
    }
   ],
   "source": [
    "len(567)"
   ]
  },
  {
   "cell_type": "code",
   "execution_count": 53,
   "metadata": {},
   "outputs": [
    {
     "data": {
      "text/plain": [
       "3"
      ]
     },
     "execution_count": 53,
     "metadata": {},
     "output_type": "execute_result"
    }
   ],
   "source": [
    "\"sdf\".__len__()"
   ]
  },
  {
   "cell_type": "code",
   "execution_count": 58,
   "metadata": {},
   "outputs": [
    {
     "data": {
      "text/plain": [
       "\"<class 'int'>\""
      ]
     },
     "execution_count": 58,
     "metadata": {},
     "output_type": "execute_result"
    }
   ],
   "source": [
    "str(type(457))"
   ]
  },
  {
   "cell_type": "code",
   "execution_count": 59,
   "metadata": {},
   "outputs": [
    {
     "name": "stdout",
     "output_type": "stream",
     "text": [
      "sdf\n"
     ]
    }
   ],
   "source": [
    "if type(457) is int: print(\"sdf\")"
   ]
  },
  {
   "cell_type": "code",
   "execution_count": 61,
   "metadata": {},
   "outputs": [
    {
     "name": "stdout",
     "output_type": "stream",
     "text": [
      "sdf\n"
     ]
    }
   ],
   "source": [
    "if isinstance(457, int): print(\"sdf\")"
   ]
  },
  {
   "cell_type": "code",
   "execution_count": null,
   "metadata": {},
   "outputs": [],
   "source": [
    "\n",
    "for l in enumerate(n):\n",
    "    if l[1] in CONSONANT:\n",
    "        return n[l[0]+1:]"
   ]
  },
  {
   "cell_type": "code",
   "execution_count": 94,
   "metadata": {},
   "outputs": [
    {
     "data": {
      "text/plain": [
       "'Aaron'"
      ]
     },
     "execution_count": 94,
     "metadata": {},
     "output_type": "execute_result"
    }
   ],
   "source": [
    "n = \"Aaron\"\n",
    "\n",
    "n if n[0] in VOWEL else n[[l for l in enumerate(n) if l[1] in CONSONANT][0][0]+1:]\n"
   ]
  },
  {
   "cell_type": "code",
   "execution_count": 74,
   "metadata": {},
   "outputs": [],
   "source": [
    "l1 = [n for n in [123,456,789] if n > 200]"
   ]
  },
  {
   "cell_type": "code",
   "execution_count": 75,
   "metadata": {},
   "outputs": [
    {
     "data": {
      "text/plain": [
       "[456, 789]"
      ]
     },
     "execution_count": 75,
     "metadata": {},
     "output_type": "execute_result"
    }
   ],
   "source": [
    "l1"
   ]
  },
  {
   "cell_type": "code",
   "execution_count": 83,
   "metadata": {},
   "outputs": [],
   "source": [
    "l2 = [(i,n) for i in [1,7,22] for n in [6,99,9] if i > n]"
   ]
  },
  {
   "cell_type": "code",
   "execution_count": 84,
   "metadata": {},
   "outputs": [
    {
     "data": {
      "text/plain": [
       "[(7, 6), (22, 6), (22, 9)]"
      ]
     },
     "execution_count": 84,
     "metadata": {},
     "output_type": "execute_result"
    }
   ],
   "source": [
    "l2"
   ]
  },
  {
   "cell_type": "code",
   "execution_count": null,
   "metadata": {},
   "outputs": [],
   "source": [
    "# go into different rooms designeate\n",
    "# each room has a posibility of death.\n",
    "# each room has a possiblity of getting money or items."
   ]
  },
  {
   "cell_type": "code",
   "execution_count": 95,
   "metadata": {},
   "outputs": [
    {
     "name": "stdout",
     "output_type": "stream",
     "text": [
      "hi from  to me\n"
     ]
    }
   ],
   "source": [
    "def sayHigh(to:str=\"me\"):\n",
    "\n",
    "    return(f\"hi from  to {to}\")\n",
    "    \n",
    "print(sayHigh())"
   ]
  },
  {
   "cell_type": "code",
   "execution_count": null,
   "metadata": {},
   "outputs": [],
   "source": []
  }
 ],
 "metadata": {
  "interpreter": {
   "hash": "aee8b7b246df8f9039afb4144a1f6fd8d2ca17a180786b69acc140d282b71a49"
  },
  "kernelspec": {
   "display_name": "Python 3.9.1 64-bit",
   "name": "python3"
  },
  "language_info": {
   "codemirror_mode": {
    "name": "ipython",
    "version": 3
   },
   "file_extension": ".py",
   "mimetype": "text/x-python",
   "name": "python",
   "nbconvert_exporter": "python",
   "pygments_lexer": "ipython3",
   "version": "3.9.1"
  },
  "orig_nbformat": 4
 },
 "nbformat": 4,
 "nbformat_minor": 2
}
